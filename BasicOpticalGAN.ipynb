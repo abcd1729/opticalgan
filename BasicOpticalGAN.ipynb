{
  "nbformat": 4,
  "nbformat_minor": 0,
  "metadata": {
    "colab": {
      "name": "BasicOpticalGAN.ipynb",
      "version": "0.3.2",
      "provenance": [],
      "collapsed_sections": []
    },
    "kernelspec": {
      "name": "python3",
      "display_name": "Python 3"
    }
  },
  "cells": [
    {
      "cell_type": "code",
      "metadata": {
        "id": "4CNxrReAbHAw",
        "colab_type": "code",
        "colab": {}
      },
      "source": [
        "!pip uninstall pennylane\n",
        "!pip install pennylane-sf"
      ],
      "execution_count": 0,
      "outputs": []
    },
    {
      "cell_type": "code",
      "metadata": {
        "id": "8m1XcrSpbR3W",
        "colab_type": "code",
        "colab": {}
      },
      "source": [
        "import pennylane as qml\n",
        "from pennylane import numpy as np\n",
        "from pennylane.optimize import GradientDescentOptimizer, AdamOptimizer\n",
        "from pennylane.templates.layers import *\n",
        "import math"
      ],
      "execution_count": 0,
      "outputs": []
    },
    {
      "cell_type": "code",
      "metadata": {
        "id": "YJIp3g3B92bX",
        "colab_type": "code",
        "colab": {}
      },
      "source": [
        "\n",
        "from matplotlib import pyplot as plt\n",
        "from mpl_toolkits.mplot3d import Axes3D\n",
        "from matplotlib import pyplot as plt\n",
        "%matplotlib inline\n",
        "\n",
        "\n",
        "plt.rcParams['font.family'] = 'serif'\n",
        "plt.rcParams['font.sans-serif'] = ['Computer Modern Roman']\n",
        "plt.style.use('default')"
      ],
      "execution_count": 0,
      "outputs": []
    },
    {
      "cell_type": "code",
      "metadata": {
        "id": "xSdS2F679NSl",
        "colab_type": "code",
        "colab": {}
      },
      "source": [
        "def fidelity(A, B):\n",
        "    #if A.dims != B.dims:\n",
        "    #    raise TypeError('Density matrices do not have same dimensions.')\n",
        "        \n",
        "    return float(np.sqrt(np.real((A * (B * A)))).trace())\n",
        "  \n",
        "  \n",
        "def wigner(rho):\n",
        "\n",
        "    import copy\n",
        "    l = 5.0\n",
        "    cutoff = rho.shape[0]\n",
        "\n",
        "    x = np.linspace(-l, l, 100)\n",
        "    p = np.linspace(-l, l, 100)\n",
        "\n",
        "    Q, P = np.meshgrid(x, p)\n",
        "    A = (Q + P * 1.0j) / (2 * np.sqrt(2 / 2))\n",
        "\n",
        "    Wlist = np.array([np.zeros(np.shape(A), dtype=complex) for k in range(cutoff)])\n",
        "    Wlist[0] = np.exp(-2.0 * np.abs(A) ** 2) / np.pi\n",
        "    W = np.real(rho[0, 0]) * np.real(Wlist[0])\n",
        "\n",
        "    for n in range(1, cutoff):\n",
        "        Wlist[n] = (2.0 * A * Wlist[n - 1]) / np.sqrt(n)\n",
        "        W += 2 * np.real(rho[0, n] * Wlist[n])\n",
        "\n",
        "    for m in range(1, cutoff):\n",
        "        temp = copy.copy(Wlist[m])\n",
        "        Wlist[m] = (2 * np.conj(A) * temp - np.sqrt(m)\n",
        "                    * Wlist[m - 1]) / np.sqrt(m)\n",
        "        W += np.real(rho[m, m] * Wlist[m])\n",
        "\n",
        "        for n in range(m + 1, cutoff):\n",
        "            temp2 = (2 * A * Wlist[n - 1] - np.sqrt(m) * temp) / np.sqrt(n)\n",
        "            temp = copy.copy(Wlist[n])\n",
        "            Wlist[n] = temp2\n",
        "            W += 2 * np.real(rho[m, n] * Wlist[n])\n",
        "\n",
        "    return Q, P, W / 2"
      ],
      "execution_count": 0,
      "outputs": []
    },
    {
      "cell_type": "code",
      "metadata": {
        "id": "KdNehbeebafb",
        "colab_type": "code",
        "colab": {}
      },
      "source": [
        "dev = qml.device('strawberryfields.fock', wires=3, cutoff_dim=10)"
      ],
      "execution_count": 0,
      "outputs": []
    },
    {
      "cell_type": "code",
      "metadata": {
        "id": "agcSv6tsdiYf",
        "colab_type": "code",
        "colab": {}
      },
      "source": [
        "THETA1, PHI1, VARPHI1, R, PHIR, THETA2, PHI2, VARPHI2, A, PHIA, K = (i for i in range(11))"
      ],
      "execution_count": 0,
      "outputs": []
    },
    {
      "cell_type": "code",
      "metadata": {
        "id": "JlcTlRKlblhp",
        "colab_type": "code",
        "colab": {}
      },
      "source": [
        "MODULUS = 1\n",
        "\n",
        "def real(phi):\n",
        "    # generates states that are unit distance from vacuum state\n",
        "    qml.Displacement(MODULUS, phi, wires=1)"
      ],
      "execution_count": 0,
      "outputs": []
    },
    {
      "cell_type": "code",
      "metadata": {
        "id": "l8-Hy_60btdS",
        "colab_type": "code",
        "colab": {}
      },
      "source": [
        "def layer(thetas, phis, rphis, S, Dr, Dp, K, q):\n",
        "    \n",
        "    N = len(q)\n",
        "    \n",
        "    def interferometer(theta, phi, rphi, q):\n",
        "      '''\n",
        "        args :\n",
        "          theta : list of N(N-1)/2 params\n",
        "          phi : list of N(N-1)/2 params\n",
        "          rphi : list of N-1 params\n",
        "      '''\n",
        "      N = len(q)\n",
        "      if N == 1:\n",
        "        qml.Rotation(rphi[0], wires=q[0])\n",
        "        return\n",
        "      \n",
        "      n = 0\n",
        "      for l in range(N):\n",
        "        for k, (q1, q2) in enumerate(zip(q[:-1], q[1:])):\n",
        "          if (l+k)%2 != 1:\n",
        "            qml.Beamsplitter(theta[n], phi[n], wires=(q1,q2))\n",
        "            n+=1\n",
        "            \n",
        "      for i in range(max(1, N-1)):\n",
        "        qml.Rotation(rphi[i], wires=q[i])\n",
        "        \n",
        "      return\n",
        "    \n",
        "    interferometer(thetas[0], phis[0], rphis[0], q)\n",
        "    for i in range(N):\n",
        "      qml.Squeezing(S[i], 0.0, wires=q[i])\n",
        "    interferometer(thetas[1], phis[1], rphis[1], q)\n",
        "    \n",
        "    for i in range(N):\n",
        "      qml.Displacement(Dr[i], Dp[i], wires=q[i])\n",
        "      qml.Kerr(K[i], wires[i])\n",
        "    \n",
        "      \n",
        "\n",
        "def generator(gw, z=1, label = None):\n",
        "\n",
        "    # z is random real number\n",
        "    q = [1,2]\n",
        "    qml.Displacement(z, 0.0, wires = 2)\n",
        "    #layer(g['thetas'], g['phis'], g['rphis'], g['S'], g['Dr'], g['Dp'], g['K'], q)\n",
        "    \n",
        "    \n",
        "    idx = 0\n",
        "    g = []\n",
        "    for i in range(11):\n",
        "      k = gsize[i][0]*gsize[i][1]\n",
        "      g.append(np.reshape(gw[idx:idx + k],gsize[i]))\n",
        "      idx += k\n",
        "      \n",
        "    CVNeuralNetLayers(g[THETA1], g[PHI1], g[VARPHI1], g[R], g[PHIR], g[THETA2], g[PHI2], g[VARPHI2], g[A], g[PHIA], g[K], wires=q)\n",
        "    \n",
        "    \n",
        "    \n",
        "def discriminator(dw, label = None):\n",
        "    q = [0,1]\n",
        "    #layer(d['thetas'], d['phis'], d['rphis'], d['S'], d['Dr'], d['Dp'], d['K'], q)\n",
        "    idx = 0\n",
        "    d = []\n",
        "    for i in range(11):\n",
        "      k = dsize[i][0]*dsize[i][1]\n",
        "      d.append(np.reshape(dw[idx:idx + k],gsize[i]))\n",
        "      idx += k\n",
        "    CVNeuralNetLayers(d[THETA1], d[PHI1], d[VARPHI1], d[R], d[PHIR], d[THETA2], d[PHI2], d[VARPHI2], d[A], d[PHIA], d[K], wires=q)\n",
        "    \n",
        "    "
      ],
      "execution_count": 0,
      "outputs": []
    },
    {
      "cell_type": "code",
      "metadata": {
        "id": "B9akLjM6bzut",
        "colab_type": "code",
        "colab": {}
      },
      "source": [
        "@qml.qnode(dev)\n",
        "def real_disc_circuit(phi, disc_weights):\n",
        "    real(phi)\n",
        "    discriminator(disc_weights)\n",
        "    return qml.expval.X(0)\n",
        "\n",
        "@qml.qnode(dev)\n",
        "def gen_disc_circuit(gen_weights, disc_weights):\n",
        "    generator(gen_weights)\n",
        "    discriminator(disc_weights)\n",
        "    return qml.expval.X(0)\n"
      ],
      "execution_count": 0,
      "outputs": []
    },
    {
      "cell_type": "markdown",
      "metadata": {
        "id": "-hU-4jLq-PCE",
        "colab_type": "text"
      },
      "source": [
        "###Evaluation Circuits\n"
      ]
    },
    {
      "cell_type": "code",
      "metadata": {
        "id": "cL1Fo4Ya-ODh",
        "colab_type": "code",
        "outputId": "c8b76ea8-0064-4731-a1b8-368a0be17f07",
        "colab": {
          "base_uri": "https://localhost:8080/",
          "height": 34
        }
      },
      "source": [
        "dev2 = qml.device('strawberryfields.fock', wires=3, cutoff_dim=10)\n",
        "dev2\n",
        "@qml.qnode(dev2)\n",
        "def trained_gen(gen_weights):\n",
        "    generator(gen_weights)\n",
        "    return qml.expval.X(0)\n",
        "  \n",
        "'''trained_gen(gen_weights)\n",
        "rho_gen = dev2.state.reduced_dm(1)\n",
        "rho_gen.shape'''"
      ],
      "execution_count": 34,
      "outputs": [
        {
          "output_type": "execute_result",
          "data": {
            "text/plain": [
              "'trained_gen(gen_weights)\\nrho_gen = dev2.state.reduced_dm(1)\\nrho_gen.shape'"
            ]
          },
          "metadata": {
            "tags": []
          },
          "execution_count": 34
        }
      ]
    },
    {
      "cell_type": "code",
      "metadata": {
        "id": "ZfpRKdon-92T",
        "colab_type": "code",
        "outputId": "825f2735-53fc-40d2-bdfc-27ef702bc78b",
        "colab": {
          "base_uri": "https://localhost:8080/",
          "height": 34
        }
      },
      "source": [
        "dev3 = qml.device('strawberryfields.fock', wires=3, cutoff_dim=10)\n",
        "@qml.qnode(dev3, interface='torch')\n",
        "def real_distr():\n",
        "  real(phi)\n",
        "  return qml.expval.X(0)\n",
        "\n",
        "'''real_distr()\n",
        "rho_real = dev3.state.reduced_dm(1)'''"
      ],
      "execution_count": 35,
      "outputs": [
        {
          "output_type": "execute_result",
          "data": {
            "text/plain": [
              "'real_distr()\\nrho_real = dev3.state.reduced_dm(1)'"
            ]
          },
          "metadata": {
            "tags": []
          },
          "execution_count": 35
        }
      ]
    },
    {
      "cell_type": "markdown",
      "metadata": {
        "id": "CSaZ0yPt-WSe",
        "colab_type": "text"
      },
      "source": [
        "###Probability Measures"
      ]
    },
    {
      "cell_type": "code",
      "metadata": {
        "id": "Ov9gf8swb4zd",
        "colab_type": "code",
        "colab": {}
      },
      "source": [
        "\n",
        "def prob_real_true(disc_weights):\n",
        "    true_disc_output = real_disc_circuit(phi, disc_weights)\n",
        "    # convert to probability\n",
        "    prob_real_true = 1 / (1+math.e**(-true_disc_output))\n",
        "    return prob_real_true\n",
        "\n",
        "def prob_fake_true(gen_weights, disc_weights):\n",
        "    fake_disc_output = gen_disc_circuit(gen_weights, disc_weights)\n",
        "    # convert to probability\n",
        "    prob_fake_true = 1 / (1+math.e**(-fake_disc_output))\n",
        "    return prob_fake_true # generator wants to minimize this prob\n",
        "\n",
        "def disc_cost(disc_weights):\n",
        "    cost = prob_fake_true(gen_weights, disc_weights) - prob_real_true(disc_weights)\n",
        "    #cost = math.log(prob_real_true(disc_weights)) + math.log(1-prob_fake_true(gen_weights, disc_weights))\n",
        "    return -cost\n",
        "\n",
        "def gen_cost(gen_weights):\n",
        "    #cost = math.log(prob_fake_true(gen_weights, disc_weights))\n",
        "    return -prob_fake_true(gen_weights, disc_weights)"
      ],
      "execution_count": 0,
      "outputs": []
    },
    {
      "cell_type": "code",
      "metadata": {
        "id": "PPV3n92fb7pg",
        "colab_type": "code",
        "outputId": "6991fc48-e234-4a2c-dfa5-3d921fa7b61a",
        "colab": {
          "base_uri": "https://localhost:8080/",
          "height": 34
        }
      },
      "source": [
        "phi = np.pi / 6\n",
        "theta = np.pi / 2\n",
        "omega = np.pi / 7\n",
        "np.random.seed(0)\n",
        "eps = 1e-2\n",
        "#gen_weights = np.array([np.pi] + [0] * 8) + np.random.normal(scale=eps, size=[9])\n",
        "#disc_weights = np.random.normal(size=[9])\n",
        "\n",
        "GL = 1\n",
        "GM = 2\n",
        "GK = 1 #(GM * (GM-1))/2\n",
        "\n",
        "DL = 1\n",
        "DM = 2\n",
        "DK = 1 #(DM * (DM-1))/2\n",
        "\n",
        "THETA1, PHI1, VARPHI1, R, PHIR, THETA2, PHI2, VARPHI2, A, PHIA, K = (i for i in range(11))\n",
        "\n",
        "gsize = [(GL,GK) , (GL,GK) , (GL,GM) , (GL,GM) , (GL,GM) , (GL,GK) , (GL,GK) , (GL,GM) , (GL,GM) , (GL,GM) , (GL,GM)]\n",
        "dsize = gsize\n",
        "tg = 0\n",
        "for i in gsize: tg += i[0]*i[1]\n",
        "td = tg\n",
        "'''gen_weights = [\n",
        "    np.random.rand(GL, GK),\n",
        "    np.random.rand(GL, GK),\n",
        "    np.random.rand(GL, GM),\n",
        "    np.random.rand(GL, GM),\n",
        "    np.random.rand(GL, GM),\n",
        "    np.random.rand(GL, GK),\n",
        "    np.random.rand(GL, GK),\n",
        "    np.random.rand(GL, GM),\n",
        "    np.random.rand(GL, GM),\n",
        "    np.random.rand(GL, GM),\n",
        "    np.random.rand(GL, GM)\n",
        "]'''\n",
        "gen_weights = np.random.rand(tg)\n",
        "'''disc_weights = [\n",
        "    np.random.rand(DL, DK),\n",
        "    np.random.rand(DL, DK),\n",
        "    np.random.rand(DL, DM),\n",
        "    np.random.rand(DL, DM),\n",
        "    np.random.rand(DL, DM),\n",
        "    np.random.rand(DL, DK),\n",
        "    np.random.rand(DL, DK),\n",
        "    np.random.rand(DL, DM),\n",
        "    np.random.rand(DL, DM),\n",
        "    np.random.rand(DL, DM),\n",
        "    np.random.rand(DL, DM)])'''\n",
        "disc_weights = np.random.rand(td)\n",
        "type(gen_weights)"
      ],
      "execution_count": 59,
      "outputs": [
        {
          "output_type": "execute_result",
          "data": {
            "text/plain": [
              "numpy.ndarray"
            ]
          },
          "metadata": {
            "tags": []
          },
          "execution_count": 59
        }
      ]
    },
    {
      "cell_type": "markdown",
      "metadata": {
        "id": "g9BV4RpO-gDd",
        "colab_type": "text"
      },
      "source": [
        "###Training"
      ]
    },
    {
      "cell_type": "code",
      "metadata": {
        "id": "YD54fLzLb94_",
        "colab_type": "code",
        "colab": {}
      },
      "source": [
        "opt = AdamOptimizer(0.1)"
      ],
      "execution_count": 0,
      "outputs": []
    },
    {
      "cell_type": "code",
      "metadata": {
        "id": "VdBXjOtfcCWS",
        "colab_type": "code",
        "colab": {}
      },
      "source": [
        "f = []\n",
        "best_fl = [0]\n",
        "best_dw = disc_weights\n",
        "best_gw = gen_weights\n",
        "best_f = 0\n",
        "\n",
        "for adv in range(30):\n",
        "    print(\"Iteration : \", adv)\n",
        "    print(\"discriminator training ...\")\n",
        "    for it in range(30):\n",
        "        disc_weights = opt.step(disc_cost, disc_weights) \n",
        "        #cost = disc_cost(disc_weights)\n",
        "        #if it % 15 == 0:\n",
        "        #    print(\"Step {}: cost = {}\".format(it+1, cost))\n",
        "    print(\"Discriminator training over .. probability real true : {} \\n probability fake true : {}\".format(prob_real_true(disc_weights), prob_fake_true(gen_weights, disc_weights)))\n",
        "    print(\"generator training ...\")\n",
        "    for it in range(100):\n",
        "        gen_weights = opt.step(gen_cost, gen_weights)\n",
        "        #cost = -gen_cost(gen_weights)\n",
        "        #if it % 25 == 0:\n",
        "        #    print(\"Step {}: cost = {}\".format(it, cost))\n",
        "            \n",
        "    print(\"Generator training over .. probability real true : {} \\n probability fake true : {}\".format(prob_real_true(disc_weights), prob_fake_true(gen_weights, disc_weights)))\n",
        "    # fidelity calculation\n",
        "    trained_gen(gen_weights)\n",
        "    rho_gen = dev2.state.reduced_dm(1)\n",
        "    real_distr()\n",
        "    rho_real = dev3.state.reduced_dm(1)\n",
        "    fid = fidelity(rho_gen,rho_real)\n",
        "    print(\"fidelity: {}\".format(fid))\n",
        "    f.append(fid)\n",
        "    if fid>best_f:\n",
        "        print(\"New best fid\")\n",
        "        best_fl.append(fid)\n",
        "        best_dw = disc_weights\n",
        "        best_gw = gen_weights\n",
        "        best_f = fid\n",
        "    \n",
        "plt.plot(f)\n",
        "    "
      ],
      "execution_count": 0,
      "outputs": []
    },
    {
      "cell_type": "code",
      "metadata": {
        "id": "wSyEwiEqAFK4",
        "colab_type": "code",
        "colab": {}
      },
      "source": [
        "\n",
        "trained_gen(best_gw)\n",
        "rho_gen = dev2.state.reduced_dm(1)\n",
        "real_distr()\n",
        "rho_real = dev3.state.reduced_dm(1)\n",
        "\n",
        "fig = plt.figure()\n",
        "ax = fig.add_subplot(111, projection=\"3d\")\n",
        "X, P, W = wigner(rho_gen)\n",
        "ax.plot_surface(X, P, W, cmap=\"RdYlGn\", lw=0.5, rstride=1, cstride=1)\n",
        "ax.contour(X, P, W, 10, cmap=\"RdYlGn\", linestyles=\"solid\", offset=-0.17)\n",
        "ax.set_axis_off()"
      ],
      "execution_count": 0,
      "outputs": []
    },
    {
      "cell_type": "code",
      "metadata": {
        "id": "iWXzAzeLG15c",
        "colab_type": "code",
        "colab": {}
      },
      "source": [
        "fig = plt.figure()\n",
        "ax = fig.add_subplot(111, projection=\"3d\")\n",
        "X, P, W = wigner(rho_real)\n",
        "ax.plot_surface(X, P, W, cmap=\"RdYlGn\", lw=0.5, rstride=1, cstride=1)\n",
        "ax.contour(X, P, W, 10, cmap=\"RdYlGn\", linestyles=\"solid\", offset=-0.17)\n",
        "ax.set_axis_off()"
      ],
      "execution_count": 0,
      "outputs": []
    },
    {
      "cell_type": "code",
      "metadata": {
        "id": "raheajhOiYy-",
        "colab_type": "code",
        "colab": {}
      },
      "source": [
        ""
      ],
      "execution_count": 0,
      "outputs": []
    }
  ]
}